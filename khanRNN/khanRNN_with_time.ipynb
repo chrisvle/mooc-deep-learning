{
 "cells": [
  {
   "cell_type": "code",
   "execution_count": 39,
   "metadata": {
    "collapsed": false
   },
   "outputs": [],
   "source": [
    "import pandas as pd\n",
    "import csv\n",
    "import numpy as np\n",
    "\n",
    "from random import random\n",
    "from keras.models import Sequential\n",
    "from keras.layers.core import TimeDistributedDense, Activation\n",
    "from keras.layers.recurrent import LSTM\n",
    "\n",
    "data = pd.read_csv('khan100000_clean.csv')"
   ]
  },
  {
   "cell_type": "code",
   "execution_count": 40,
   "metadata": {
    "collapsed": false
   },
   "outputs": [],
   "source": [
    "# problems = data.copy()\n",
    "problems = pd.DataFrame()\n",
    "problems.insert(0, 'false', np.zeros(len(data), dtype=np.int))\n",
    "problems.insert(1, 'true', np.zeros(len(data), dtype=np.int))\n",
    "\n",
    "# problems = problems.drop(['problem_correct','problem_backup_timestamp','problem_time_taken','problem_exercise', \\\n",
    "# \t\t\t\t\t'problem_problem_type','problem_seed', 'problem_sha1','problem_hint_used','attempts'], 1)\n",
    "# drop index and users\n",
    "# print problems.columns.values"
   ]
  },
  {
   "cell_type": "code",
   "execution_count": 41,
   "metadata": {
    "collapsed": false
   },
   "outputs": [],
   "source": [
    "# Creating a set for all excercises\n",
    "skill_col = data['problem_exercise']\n",
    "skills = set()\n",
    "for skill in skill_col:\n",
    "    if skill not in skills:\n",
    "        skills.add(skill)\n",
    "\n",
    "for skill in skills:\n",
    "    problems[skill] = 0  \n",
    "    \n",
    "# print len(problems.columns.values)"
   ]
  },
  {
   "cell_type": "code",
   "execution_count": 42,
   "metadata": {
    "collapsed": false
   },
   "outputs": [],
   "source": [
    "added_rows = 0\n",
    "past_student = None\n",
    "new = 0\n",
    "\n",
    "new_row = np.zeros(len(skills)+2, dtype=np.int)\n",
    "\n",
    "for i, row in enumerate(data.values): \n",
    "    if row[0] != past_student:\n",
    "        new += 1\n",
    "        problems.loc[i+added_rows] = new_row\n",
    "        problems.loc[len(problems)] = new_row\n",
    "        added_rows += 1\n",
    "        past_student = row[0]\n",
    "    if row[1]:         \n",
    "        problems['true'].iloc[i + added_rows] = 1\n",
    "    else:\n",
    "        problems['false'].iloc[i + added_rows] = 1\n",
    "    for skill in skills:\n",
    "        if row[4] == skill:\n",
    "            problems[skill].iloc[i + added_rows] = 1"
   ]
  },
  {
   "cell_type": "code",
   "execution_count": 148,
   "metadata": {
    "collapsed": false
   },
   "outputs": [],
   "source": [
    "# added_rows = 0\n",
    "# past_student = None\n",
    "# new = 0\n",
    "\n",
    "# new_row = np.zeros(len(skills)+2, dtype=np.int)\n",
    "\n",
    "# for i, row in enumerate(data.values): \n",
    "#     if row[0] != past_student and past_student:\n",
    "#         new += 1\n",
    "#         problems.loc[i+added_rows] = new_row\n",
    "#         problems.loc[len(problems)] = new_row\n",
    "#         added_rows += 1\n",
    "#     past_student = row[0]\n",
    "#     if row[1]:         \n",
    "#         problems['true'].iloc[i + added_rows] = 1\n",
    "#     else:\n",
    "#         problems['false'].iloc[i + added_rows] = 1\n",
    "#     for skill in skills:\n",
    "#         if row[4] == skill:\n",
    "#             problems[skill].iloc[i + added_rows] = 1"
   ]
  },
  {
   "cell_type": "code",
   "execution_count": 44,
   "metadata": {
    "collapsed": false
   },
   "outputs": [
    {
     "name": "stdout",
     "output_type": "stream",
     "text": [
      "(114, 99, 316)\n",
      "(114, 99, 316)\n"
     ]
    }
   ],
   "source": [
    "labels = problems.iloc[1:].copy()\n",
    "labels.loc[len(labels)] = np.zeros(len(skills)+2, dtype=np.int)\n",
    "\n",
    "\n",
    "def _load_data(data, n_prev = 100):\n",
    "    \"\"\"\n",
    "    data should be pd.DataFrame()\n",
    "    \"\"\"\n",
    "    docX, docY = [], []\n",
    "    for i in range(0, len(data)-n_prev, 100):\n",
    "        docX.append(data.iloc[i:i+n_prev-1].as_matrix())\n",
    "        docY.append(data.iloc[i+1:i+n_prev].as_matrix())\n",
    "    alsX = np.array(docX)\n",
    "    alsY = np.array(docY)\n",
    "\n",
    "    return alsX, alsY\n",
    "\n",
    "def train_test_split(data):\n",
    "    \"\"\"\n",
    "    This just splits data to training and testing parts\n",
    "    \"\"\"\n",
    "    ntrn = int(round(len(data) * 0.8))\n",
    "\n",
    "    train, train_labels = _load_data(data.iloc[0:ntrn])\n",
    "    test, test_labels = _load_data(data.iloc[ntrn:])\n",
    "\n",
    "    return (train, train_labels), (test, test_labels)\n",
    "\n",
    "(train, train_labels), (test, test_labels) = train_test_split(problems)\n",
    "\n",
    "print train.shape\n",
    "print train_labels.shape"
   ]
  },
  {
   "cell_type": "code",
   "execution_count": 162,
   "metadata": {
    "collapsed": false
   },
   "outputs": [
    {
     "name": "stdout",
     "output_type": "stream",
     "text": [
      "0\n",
      "(195, 10, 110)\n",
      "(195, 10, 110)\n"
     ]
    }
   ],
   "source": [
    "# labels = problems.iloc[1:].copy()\n",
    "# labels.loc[len(labels)] = np.zeros(len(skills)+2, dtype=np.int)\n",
    "\n",
    "# def _load_data(data, n_prev = 10):\n",
    "#     \"\"\"\n",
    "#     data should be pd.DataFrame()\n",
    "#     \"\"\"\n",
    "#     docX, docY = [], []\n",
    "#     for i in range(len(data)-n_prev):\n",
    "#         window = np.array()\n",
    "#         for j in range(i,i+n_prev):\n",
    "#             if not data.iloc[j][0] and not data.iloc[j][0]:\n",
    "                \n",
    "#             docX.append(data.iloc[i:i+n_prev].as_matrix())\n",
    "#         docY.append(data.iloc[i+1:i+n_prev+1].as_matrix())\n",
    "#     alsX = np.array(docX)\n",
    "#     alsY = np.array(docY)\n",
    "\n",
    "#     return alsX, alsY\n",
    "\n",
    "# def train_test_split(data):\n",
    "#     \"\"\"\n",
    "#     This just splits data to training and testing parts\n",
    "#     \"\"\"\n",
    "#     ntrn = int(round(len(data) * 0.8))\n",
    "\n",
    "#     train, train_labels = _load_data(data.iloc[0:ntrn])\n",
    "#     test, test_labels = _load_data(data.iloc[ntrn:])\n",
    "\n",
    "#     return (train, train_labels), (test, test_labels)\n",
    "\n",
    "# (train, train_labels), (test, test_labels) = train_test_split(problems)\n",
    "\n",
    "# print test.shape\n",
    "# print test_labels.shape"
   ]
  },
  {
   "cell_type": "code",
   "execution_count": 46,
   "metadata": {
    "collapsed": false
   },
   "outputs": [
    {
     "name": "stdout",
     "output_type": "stream",
     "text": [
      "Epoch 1/1\n",
      "114/114 [==============================] - 22s - loss: 0.0170\n"
     ]
    },
    {
     "data": {
      "text/plain": [
       "<keras.callbacks.History at 0x7f5c3c334ed0>"
      ]
     },
     "execution_count": 46,
     "metadata": {},
     "output_type": "execute_result"
    }
   ],
   "source": [
    "in_neurons = 316\n",
    "out_neurons = 316\n",
    "hidden_neurons = 256\n",
    "\n",
    "model = Sequential()\n",
    "model.add(LSTM(output_dim=hidden_neurons, input_dim=in_neurons, return_sequences=True))\n",
    "model.add(TimeDistributedDense(output_dim=out_neurons, input_dim=hidden_neurons))\n",
    "model.add(Activation(\"linear\"))\n",
    "model.compile(loss=\"mean_squared_error\", optimizer=\"rmsprop\")\n",
    "\n",
    "model.fit(train, train_labels, batch_size=50, nb_epoch=1)"
   ]
  },
  {
   "cell_type": "code",
   "execution_count": 16,
   "metadata": {
    "collapsed": false
   },
   "outputs": [],
   "source": [
    "# predicted = model.predict(test)\n",
    "# rmse = np.sqrt(((predicted - test_labels) ** 2).mean(axis=0))\n",
    "\n",
    "# pd.DataFrame(predicted[:100]).to_csv(\"predicted.csv\")\n",
    "# pd.DataFrame(test_labels[:100]).to_csv(\"test_data.csv\")"
   ]
  },
  {
   "cell_type": "code",
   "execution_count": 47,
   "metadata": {
    "collapsed": false
   },
   "outputs": [],
   "source": [
    "# weights = model.layers[0].get_weights()\n",
    "# test_row = np.array([[problems.values[0]]])\n",
    "# eval = model.predict(np.array([train[0]]))\n",
    "# weights = model.get_weights()\n",
    "# print len(weights)\n",
    "model2 = Sequential()\n",
    "model2.add(LSTM(output_dim=hidden_neurons, input_dim=in_neurons, return_sequences=True, weights=model.layers[0].get_weights()))\n",
    "model2.add(Activation('tanh'))\n",
    "model2.compile(loss=\"mean_squared_error\", optimizer=\"rmsprop\")\n",
    "\n",
    "# Check for correct hidden layer\n",
    "# activations = model2.predict(np.array([train[0]]))\n",
    "# print activations.shape"
   ]
  },
  {
   "cell_type": "code",
   "execution_count": 48,
   "metadata": {
    "collapsed": false
   },
   "outputs": [],
   "source": [
    "# Creates a dictionary with Key = Unique Students and Values = Student's Data\n",
    "\n",
    "all_students = dict()\n",
    "timesteps = []\n",
    "index = 0\n",
    "for row in problems.values:\n",
    "    if row[0] == 0 and row[1] == 0:\n",
    "        timesteps = []\n",
    "        all_students[index+1] = timesteps\n",
    "        index += 1\n",
    "    else:\n",
    "        all_students[index].append(row)\n",
    "\n"
   ]
  },
  {
   "cell_type": "code",
   "execution_count": 49,
   "metadata": {
    "collapsed": false
   },
   "outputs": [],
   "source": [
    "# Creates a dictionary with Key = Unique Students and Values = Student's Hidden Data\n",
    "\n",
    "predictions = dict()\n",
    "first = []\n",
    "\n",
    "for index in all_students:\n",
    "    for row in all_students[index]:\n",
    "        if index not in predictions:\n",
    "            first = []\n",
    "            predictions[index] = first\n",
    "        else:\n",
    "            temp = np.array([[row]])\n",
    "            predict = model2.predict(temp)\n",
    "            # Check for correct hidden output state\n",
    "#             print predict.shape\n",
    "            predictions[index].append(predict)\n"
   ]
  },
  {
   "cell_type": "code",
   "execution_count": null,
   "metadata": {
    "collapsed": false
   },
   "outputs": [],
   "source": [
    "# only_first = []\n",
    "# middle = []\n",
    "# last = []\n",
    "\n",
    "# for student in predictions:\n",
    "#     if predictions[student]:\n",
    "#         only_first.append(predictions[student][0][0])\n",
    "#         middle.append(student_at_first[student][len(student_at_first[student]) / 2])\n",
    "#         last.append(student_at_first[student][len(student_at_first[student]) - 1])\n",
    "\n",
    "# print len(only_first)\n",
    "# np.savetxt(\"only_first.txt\", np.array(only_first))\n",
    "# np.savetxt(\"middle.txt\", np.array(only_first))\n",
    "# np.savetxt(\"last.txt\", np.array(only_first))"
   ]
  },
  {
   "cell_type": "code",
   "execution_count": 50,
   "metadata": {
    "collapsed": false
   },
   "outputs": [],
   "source": [
    "all_timesteps = []\n",
    "for student in predictions:\n",
    "    if predictions[student]:\n",
    "        for hiddens in predictions[student]:\n",
    "            all_timesteps.append(hiddens[0][0])\n",
    "\n",
    "np.savetxt(\"test.txt\", np.array(all_timesteps))"
   ]
  },
  {
   "cell_type": "code",
   "execution_count": null,
   "metadata": {
    "collapsed": false,
    "scrolled": true
   },
   "outputs": [
    {
     "name": "stdout",
     "output_type": "stream",
     "text": [
      "Preprocessing the data using PCA...\n",
      "Computing pairwise distances...\n",
      "Computing P-values for point  0  of  14058 ...\n",
      "Computing P-values for point  100  of  14058 ...\n",
      "Computing P-values for point  200  of  14058 ...\n",
      "Computing P-values for point  300  of  14058 ...\n",
      "Computing P-values for point  400  of  14058 ...\n",
      "Computing P-values for point  500  of  14058 ...\n",
      "Computing P-values for point  600  of  14058 ...\n",
      "Computing P-values for point  700  of  14058 ...\n",
      "Computing P-values for point  800  of  14058 ...\n",
      "Computing P-values for point  900  of  14058 ...\n",
      "Computing P-values for point  1000  of  14058 ...\n",
      "Computing P-values for point  1100  of  14058 ...\n",
      "Computing P-values for point  1200  of  14058 ...\n",
      "Computing P-values for point  1300  of  14058 ...\n",
      "Computing P-values for point  1400  of  14058 ...\n",
      "Computing P-values for point  1500  of  14058 ...\n",
      "Computing P-values for point  1600  of  14058 ...\n",
      "Computing P-values for point  1700  of  14058 ...\n",
      "Computing P-values for point  1800  of  14058 ...\n",
      "Computing P-values for point  1900  of  14058 ...\n",
      "Computing P-values for point  2000  of  14058 ...\n",
      "Computing P-values for point  2100  of  14058 ...\n",
      "Computing P-values for point  2200  of  14058 ...\n",
      "Computing P-values for point  2300  of  14058 ...\n",
      "Computing P-values for point  2400  of  14058 ...\n",
      "Computing P-values for point  2500  of  14058 ...\n",
      "Computing P-values for point  2600  of  14058 ...\n",
      "Computing P-values for point  2700  of  14058 ...\n",
      "Computing P-values for point  2800  of  14058 ...\n",
      "Computing P-values for point  2900  of  14058 ...\n",
      "Computing P-values for point  3000  of  14058 ...\n",
      "Computing P-values for point  3100  of  14058 ...\n",
      "Computing P-values for point  3200  of  14058 ...\n",
      "Computing P-values for point  3300  of  14058 ...\n",
      "Computing P-values for point  3400  of  14058 ...\n",
      "Computing P-values for point  3500  of  14058 ...\n",
      "Computing P-values for point  3600  of  14058 ...\n",
      "Computing P-values for point  3700  of  14058 ...\n",
      "Computing P-values for point  3800  of  14058 ...\n",
      "Computing P-values for point  3900  of  14058 ...\n",
      "Computing P-values for point  4000  of  14058 ...\n",
      "Computing P-values for point  4100  of  14058 ...\n",
      "Computing P-values for point  4200  of  14058 ...\n",
      "Computing P-values for point  4300  of  14058 ...\n",
      "Computing P-values for point  4400  of  14058 ...\n",
      "Computing P-values for point  4500  of  14058 ...\n",
      "Computing P-values for point "
     ]
    }
   ],
   "source": [
    "% run tsne.py\n",
    "\n",
    "X = Math.loadtxt(\"test.txt\");\n",
    "Y = tsne(X, 2, 316, 20.0);"
   ]
  },
  {
   "cell_type": "code",
   "execution_count": 52,
   "metadata": {
    "collapsed": false
   },
   "outputs": [
    {
     "ename": "NameError",
     "evalue": "name 'Y' is not defined",
     "output_type": "error",
     "traceback": [
      "\u001b[1;31m---------------------------------------------------------------------------\u001b[0m",
      "\u001b[1;31mNameError\u001b[0m                                 Traceback (most recent call last)",
      "\u001b[1;32m<ipython-input-52-6fb0dfd0134b>\u001b[0m in \u001b[0;36m<module>\u001b[1;34m()\u001b[0m\n\u001b[0;32m     18\u001b[0m \u001b[1;33m\u001b[0m\u001b[0m\n\u001b[0;32m     19\u001b[0m \u001b[1;33m\u001b[0m\u001b[0m\n\u001b[1;32m---> 20\u001b[1;33m \u001b[1;32mprint\u001b[0m \u001b[0mlen\u001b[0m\u001b[1;33m(\u001b[0m\u001b[0mY\u001b[0m\u001b[1;33m)\u001b[0m\u001b[1;33m\u001b[0m\u001b[0m\n\u001b[0m",
      "\u001b[1;31mNameError\u001b[0m: name 'Y' is not defined"
     ]
    }
   ],
   "source": [
    "import matplotlib.pylab as plt\n",
    "import sklearn.cluster as sk\n",
    "\n",
    "# colors = ['red','green','blue','yellow','orange']\n",
    "# plt.figure(figsize=(10,10))\n",
    "\n",
    "# timestep = Y[::99]\n",
    "# print first\n",
    "\n",
    "for timestep in range(99):\n",
    "    timestep = Y[timestep::99]\n",
    "#     kmeans = sk.KMeans(n_clusters = 5)\n",
    "#     kmeans.fit(Y)\n",
    "\n",
    "#     memb = Math.array(kmeans.labels_)\n",
    "\n",
    "#     for i in range(5):\n",
    "#         ind = Math.where(memb==i)\n",
    "#         Plot.scatter(Y[ind,0], Y[ind,1], 100, colors[i], alpha = 0.2)\n",
    "#     Plot.savefig(timestep + '.jpg')\n",
    "\n",
    "\n",
    "print len(Y) "
   ]
  },
  {
   "cell_type": "code",
   "execution_count": 166,
   "metadata": {
    "collapsed": false
   },
   "outputs": [],
   "source": [
    "%matplotlib inline\n",
    "import matplotlib.pylab as plt\n",
    "import sklearn.cluster as sk\n",
    "\n",
    "kmeans = sk.KMeans(n_clusters = 5)\n",
    "kmeans.fit(Y)\n",
    "\n",
    "centers = map(float, kmeans.labels_)\n"
   ]
  },
  {
   "cell_type": "code",
   "execution_count": 167,
   "metadata": {
    "collapsed": false
   },
   "outputs": [
    {
     "data": {
      "text/plain": [
       "<matplotlib.collections.PathCollection at 0x11e11ef10>"
      ]
     },
     "execution_count": 167,
     "metadata": {},
     "output_type": "execute_result"
    },
    {
     "data": {
      "image/png": "[encoded data removed]",
      "text/plain": [
       "<matplotlib.figure.Figure at 0x127b76fd0>"
      ]
     },
     "metadata": {},
     "output_type": "display_data"
    }
   ],
   "source": [
    "kc = kmeans.cluster_centers_\n",
    "\n",
    "memb = Math.array(kmeans.labels_)\n",
    "\n",
    "colors = ['red','green','blue','yellow','orange']\n",
    "plt.figure(figsize=(10,10))\n",
    "for i in range(5):\n",
    "    ind = Math.where(memb==i)\n",
    "    Plot.scatter(Y[ind,0], Y[ind,1], 100, colors[i], alpha = 0.2)\n",
    "Plot.scatter(kc[:,0], kc[:,1], 1000, colors)"
   ]
  }
 ],
 "metadata": {
  "kernelspec": {
   "display_name": "Python 2",
   "language": "python",
   "name": "python2"
  },
  "language_info": {
   "codemirror_mode": {
    "name": "ipython",
    "version": 2
   },
   "file_extension": ".py",
   "mimetype": "text/x-python",
   "name": "python",
   "nbconvert_exporter": "python",
   "pygments_lexer": "ipython2",
   "version": "2.7.9"
  }
 },
 "nbformat": 4,
 "nbformat_minor": 0
}
