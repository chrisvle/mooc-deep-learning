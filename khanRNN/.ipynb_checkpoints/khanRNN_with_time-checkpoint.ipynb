{
 "cells": [
  {
   "cell_type": "code",
   "execution_count": 1,
   "metadata": {
    "collapsed": false
   },
   "outputs": [],
   "source": [
    "import pandas as pd\n",
    "import csv\n",
    "import numpy as np\n",
    "\n",
    "from random import random\n",
    "from keras.models import Sequential\n",
    "from keras.layers.core import Dense, Activation\n",
    "from keras.layers.recurrent import LSTM\n",
    "\n",
    "data = pd.read_csv('khan_with_time.csv')"
   ]
  },
  {
   "cell_type": "code",
   "execution_count": 2,
   "metadata": {
    "collapsed": false
   },
   "outputs": [],
   "source": [
    "# problems = data.copy()\n",
    "problems = pd.DataFrame()\n",
    "problems.insert(0, 'false', np.zeros(len(data), dtype=np.int))\n",
    "problems.insert(1, 'true', np.zeros(len(data), dtype=np.int))\n",
    "\n",
    "# problems = problems.drop(['problem_correct','problem_backup_timestamp','problem_time_taken','problem_exercise', \\\n",
    "# \t\t\t\t\t'problem_problem_type','problem_seed', 'problem_sha1','problem_hint_used','attempts'], 1)\n",
    "# drop index and users\n",
    "# print problems.columns.values"
   ]
  },
  {
   "cell_type": "code",
   "execution_count": 3,
   "metadata": {
    "collapsed": false
   },
   "outputs": [],
   "source": [
    "# Creating a set for all excercises\n",
    "skill_col = data['problem_exercise']\n",
    "skills = set()\n",
    "for skill in skill_col:\n",
    "    if skill not in skills:\n",
    "        skills.add(skill)\n",
    "\n",
    "for skill in skills:\n",
    "    problems[skill] = 0  \n",
    "    \n",
    "# print len(problems.columns.values)"
   ]
  },
  {
   "cell_type": "code",
   "execution_count": 4,
   "metadata": {
    "collapsed": false
   },
   "outputs": [],
   "source": [
    "added_rows = 0\n",
    "past_student = None\n",
    "new = 0\n",
    "\n",
    "new_row = np.zeros(len(skills)+2, dtype=np.int)\n",
    "\n",
    "for i, row in enumerate(data.values): \n",
    "    if row[0] != past_student:\n",
    "        new += 1\n",
    "        problems.loc[i+added_rows] = new_row\n",
    "        problems.loc[len(problems)] = new_row\n",
    "        added_rows += 1\n",
    "        past_student = row[0]\n",
    "    if row[1]:         \n",
    "        problems['true'].iloc[i + added_rows] = 1\n",
    "    else:\n",
    "        problems['false'].iloc[i + added_rows] = 1\n",
    "    for skill in skills:\n",
    "        if row[4] == skill:\n",
    "            problems[skill].iloc[i + added_rows] = 1\n",
    "    "
   ]
  },
  {
   "cell_type": "code",
   "execution_count": 17,
   "metadata": {
    "collapsed": false
   },
   "outputs": [],
   "source": [
    "labels = problems.iloc[1:].copy()\n",
    "labels.loc[len(labels)] = np.zeros(len(skills)+2, dtype=np.int)\n",
    "\n",
    "def _load_data(data, n_prev = 10):\n",
    "    \"\"\"\n",
    "    data should be pd.DataFrame()\n",
    "    \"\"\"\n",
    "\n",
    "    docX, docY = [], []\n",
    "    for i in range(len(data)-n_prev):\n",
    "        docX.append(data.iloc[i:i+n_prev].as_matrix())\n",
    "        docY.append(data.iloc[i+n_prev].as_matrix())\n",
    "    alsX = np.array(docX)\n",
    "    alsY = np.array(docY)\n",
    "\n",
    "    return alsX, alsY\n",
    "\n",
    "def train_test_split(data):\n",
    "    \"\"\"\n",
    "    This just splits data to training and testing parts\n",
    "    \"\"\"\n",
    "    ntrn = int(round(len(data) * 0.8))\n",
    "\n",
    "    train, train_labels = _load_data(data.iloc[0:ntrn])\n",
    "    test, test_labels = _load_data(data.iloc[ntrn:])\n",
    "\n",
    "    return (train, train_labels), (test, test_labels)\n",
    "\n",
    "(train, train_labels), (test, test_labels) = train_test_split(problems)\n",
    "\n",
    "# print test.shape\n",
    "# print test_labels.shape"
   ]
  },
  {
   "cell_type": "code",
   "execution_count": 19,
   "metadata": {
    "collapsed": false
   },
   "outputs": [
    {
     "name": "stdout",
     "output_type": "stream",
     "text": [
      "Epoch 0\n",
      "808/808 [==============================] - 4s - loss: 0.0184     \n",
      "Epoch 1\n",
      "808/808 [==============================] - 3s - loss: 0.0140     \n",
      "Epoch 2\n",
      "808/808 [==============================] - 3s - loss: 0.0126     \n",
      "Epoch 3\n",
      "808/808 [==============================] - 3s - loss: 0.0117     \n",
      "Epoch 4\n",
      "808/808 [==============================] - 3s - loss: 0.0111     \n",
      "Epoch 5\n",
      "808/808 [==============================] - 4s - loss: 0.0106     \n",
      "Epoch 6\n",
      "808/808 [==============================] - 4s - loss: 0.0102     \n",
      "Epoch 7\n",
      "808/808 [==============================] - 4s - loss: 0.0099     \n",
      "Epoch 8\n",
      "808/808 [==============================] - 4s - loss: 0.0096     \n",
      "Epoch 9\n",
      "808/808 [==============================] - 4s - loss: 0.0093     \n"
     ]
    },
    {
     "data": {
      "text/plain": [
       "<keras.callbacks.History at 0x108798cd0>"
      ]
     },
     "execution_count": 19,
     "metadata": {},
     "output_type": "execute_result"
    }
   ],
   "source": [
    "in_neurons = 110\n",
    "out_neurons = 110\n",
    "hidden_neurons = 150\n",
    "\n",
    "model = Sequential()\n",
    "model.add(LSTM(output_dim=hidden_neurons, input_dim=in_neurons, return_sequences=False))\n",
    "model.add(Dense(output_dim=out_neurons, input_dim=hidden_neurons))\n",
    "model.add(Activation(\"linear\"))\n",
    "model.compile(loss=\"mean_squared_error\", optimizer=\"rmsprop\")\n",
    "\n",
    "model.fit(train, train_labels, batch_size=5, nb_epoch=10)"
   ]
  },
  {
   "cell_type": "code",
   "execution_count": 20,
   "metadata": {
    "collapsed": false
   },
   "outputs": [],
   "source": [
    "predicted = model.predict(test)\n",
    "rmse = np.sqrt(((predicted - test_labels) ** 2).mean(axis=0))\n",
    "\n",
    "pd.DataFrame(predicted[:100]).to_csv(\"predicted.csv\")\n",
    "pd.DataFrame(test_labels[:100]).to_csv(\"test_data.csv\")"
   ]
  },
  {
   "cell_type": "code",
   "execution_count": 83,
   "metadata": {
    "collapsed": false
   },
   "outputs": [
    {
     "name": "stdout",
     "output_type": "stream",
     "text": [
      "[[ 0.05783669  0.03690609 -0.04869177  0.16965935  0.15686269  0.05266436\n",
      "  -0.05065899 -0.10747717 -0.12446894 -0.04520047  0.160634    0.11004484\n",
      "   0.18046862 -0.14121542  0.1083374  -0.01089812  0.06982244 -0.09539521\n",
      "   0.03180123  0.00788494 -0.09813841 -0.0413915   0.2272597  -0.03559946\n",
      "  -0.15414343 -0.04766334  0.173432   -0.07342395 -0.10759563  0.01410265\n",
      "   0.17769311 -0.26063259  0.11186309  0.03373011  0.01528387  0.12487399\n",
      "   0.06138289  0.14316068 -0.08439065 -0.18981457  0.16346999  0.0070162\n",
      "   0.22431198 -0.20064184  0.11553103 -0.06075238 -0.07602449  0.19709041\n",
      "  -0.13793726  0.14736905 -0.17233641  0.07098114  0.01357381  0.17275956\n",
      "   0.09915705 -0.19605875 -0.2492511  -0.095422    0.08396576 -0.10670177\n",
      "  -0.10747867  0.08944831 -0.06655965  0.07398634 -0.18933083  0.1291879\n",
      "  -0.21683708  0.12570208 -0.1215012   0.07052729  0.09460074  0.06163188\n",
      "   0.16941904  0.06616818  0.04515702 -0.05140893 -0.1264175  -0.25393822\n",
      "  -0.03906736 -0.10808364 -0.12152512 -0.0640556  -0.00367978 -0.0748172\n",
      "  -0.04754073 -0.17141459  0.14529436  0.27889971 -0.027658   -0.17813753\n",
      "   0.15465271  0.01135095  0.04111735 -0.03912351  0.01993133  0.1135814\n",
      "  -0.03495472  0.12671757  0.00752931  0.13874041  0.03799825 -0.12434138\n",
      "  -0.13595459 -0.07577634 -0.04342607 -0.08961823 -0.14399288 -0.06189611\n",
      "   0.16118709 -0.10751221 -0.08048452  0.05347294 -0.01571419 -0.12416629\n",
      "  -0.04581663  0.03025879 -0.08637206 -0.17191428 -0.0746492   0.02973201\n",
      "   0.12584861  0.02153445  0.25256044 -0.04103765  0.02425786 -0.05574259\n",
      "   0.0628364  -0.082057   -0.05849887  0.07257304 -0.10792422  0.02623949\n",
      "   0.05501995  0.06019347 -0.13300279 -0.10571378 -0.21332099  0.10611481\n",
      "  -0.16875092  0.03833951 -0.05470599 -0.13914862 -0.09075489  0.08699432\n",
      "  -0.23721125  0.08343054  0.05705597 -0.17941499 -0.08524769 -0.10814926]]\n"
     ]
    }
   ],
   "source": [
    "# weights = model.layers[0].get_weights()\n",
    "# test_row = np.array([[problems.values[0]]])\n",
    "# eval = model.predict(np.array([train[0]]))\n",
    "# weights = model.get_weights()\n",
    "# print len(weights)\n",
    "model2 = Sequential()\n",
    "model2.add(LSTM(output_dim=hidden_neurons, input_dim=in_neurons, return_sequences=False, weights=model.layers[0].get_weights()))\n",
    "model2.add(Activation('tanh'))\n",
    "model2.compile(loss=\"mean_squared_error\", optimizer=\"rmsprop\")\n",
    "\n",
    "activations = model2.predict(np.array([train[0]]))\n",
    "print activations"
   ]
  },
  {
   "cell_type": "code",
   "execution_count": 84,
   "metadata": {
    "collapsed": false
   },
   "outputs": [
    {
     "data": {
      "text/plain": [
       "(1, 150)"
      ]
     },
     "execution_count": 84,
     "metadata": {},
     "output_type": "execute_result"
    }
   ],
   "source": [
    "activations.shape"
   ]
  },
  {
   "cell_type": "code",
   "execution_count": 102,
   "metadata": {
    "collapsed": false
   },
   "outputs": [],
   "source": [
    "# TSNE at first time step\n",
    "\n",
    "all_students = dict()\n",
    "timesteps = []\n",
    "index = 0\n",
    "for row in problems.values:\n",
    "    if row[0] == 0 and row[1] == 0:\n",
    "        timesteps = []\n",
    "        all_students[index+1] = timesteps\n",
    "        index += 1\n",
    "    else:\n",
    "        all_students[index].append(row)\n",
    "\n",
    "# sum = 0\n",
    "# for student in all_students:\n",
    "#     sum += len(all_students[student])\n",
    "# print sum\n",
    "\n",
    "# print all_students[1][0]\n",
    "# print problems.iloc[1]"
   ]
  },
  {
   "cell_type": "code",
   "execution_count": 126,
   "metadata": {
    "collapsed": false
   },
   "outputs": [],
   "source": [
    "student_at_first = dict()\n",
    "first = []\n",
    "\n",
    "for index in all_students:\n",
    "    for row in all_students[index]:\n",
    "        if index not in student_at_first:\n",
    "            first = []\n",
    "            student_at_first[index] = first\n",
    "        else:\n",
    "            temp = np.array([[row]])\n",
    "            predict = model.predict(temp)\n",
    "            student_at_first[index].append(predict)\n"
   ]
  },
  {
   "cell_type": "code",
   "execution_count": 134,
   "metadata": {
    "collapsed": false
   },
   "outputs": [],
   "source": [
    "only_first = []\n",
    "middle = []\n",
    "last = []\n",
    "\n",
    "for student in student_at_first:\n",
    "    if student_at_first[student]:\n",
    "        only_first.append(student_at_first[student][0][0])\n",
    "        middle.append(student_at_first[student][len(student_at_first[student]) / 2])\n",
    "        last.append(student_at_first[student][len(student_at_first[student]) - 1])\n",
    "\n",
    "np.savetxt(\"only_first.txt\", np.array(only_first))\n",
    "np.savetxt(\"middle.txt\", np.array(only_first))\n",
    "np.savetxt(\"last.txt\", np.array(only_first))"
   ]
  },
  {
   "cell_type": "code",
   "execution_count": 135,
   "metadata": {
    "collapsed": false
   },
   "outputs": [
    {
     "name": "stdout",
     "output_type": "stream",
     "text": [
      "Preprocessing the data using PCA...\n",
      "Computing pairwise distances...\n",
      "Computing P-values for point  0  of  22 ...\n",
      "Mean value of sigma:  0.480030007808\n",
      "Preprocessing the data using PCA...\n",
      "Computing pairwise distances...\n",
      "Computing P-values for point  0  of  22 ...\n",
      "Mean value of sigma:  0.480030007808\n",
      "Preprocessing the data using PCA...\n",
      "Computing pairwise distances...\n",
      "Computing P-values for point  0  of  22 ...\n",
      "Mean value of sigma:  0.480030007808\n"
     ]
    },
    {
     "name": "stderr",
     "output_type": "stream",
     "text": [
      "<string>:80: ComplexWarning: Casting complex values to real discards the imaginary part\n"
     ]
    }
   ],
   "source": [
    "% run tsne.py\n",
    "\n",
    "X = Math.loadtxt(\"only_first.txt\");\n",
    "Y = tsne(X, 2, 36, 20.0);\n",
    "\n",
    "X2 = Math.loadtxt(\"middle.txt\");\n",
    "Y2 = tsne(X, 2, 36, 20.0);\n",
    "\n",
    "X3 = Math.loadtxt(\"last.txt\");\n",
    "Y3 = tsne(X, 2, 36, 20.0);"
   ]
  },
  {
   "cell_type": "code",
   "execution_count": 136,
   "metadata": {
    "collapsed": false
   },
   "outputs": [],
   "source": [
    "%matplotlib inline\n",
    "import matplotlib.pylab as plt\n",
    "import sklearn.cluster as sk\n",
    "\n",
    "kmeans = sk.KMeans(n_clusters = 3)\n",
    "kmeans.fit(Y)\n",
    "\n",
    "kmeans2 = sk.KMeans(n_clusters = 3)\n",
    "kmeans2.fit(Y2)\n",
    "\n",
    "kmeans3 = sk.KMeans(n_clusters = 3)\n",
    "kmeans3.fit(Y3)\n",
    "\n",
    "centers = map(float, kmeans.labels_)\n",
    "centers2 = map(float, kmeans2.labels_)\n",
    "centers3 = map(float, kmeans3.labels_)\n"
   ]
  },
  {
   "cell_type": "code",
   "execution_count": 1,
   "metadata": {
    "collapsed": false
   },
   "outputs": [
    {
     "ename": "NameError",
     "evalue": "name 'kmeans' is not defined",
     "output_type": "error",
     "traceback": [
      "\u001b[0;31m---------------------------------------------------------------------------\u001b[0m",
      "\u001b[0;31mNameError\u001b[0m                                 Traceback (most recent call last)",
      "\u001b[0;32m<ipython-input-1-bd5be0c121c0>\u001b[0m in \u001b[0;36m<module>\u001b[0;34m()\u001b[0m\n\u001b[0;32m----> 1\u001b[0;31m \u001b[0mkc\u001b[0m \u001b[0;34m=\u001b[0m \u001b[0mkmeans\u001b[0m\u001b[0;34m.\u001b[0m\u001b[0mcluster_centers_\u001b[0m\u001b[0;34m\u001b[0m\u001b[0m\n\u001b[0m\u001b[1;32m      2\u001b[0m \u001b[0;34m\u001b[0m\u001b[0m\n\u001b[1;32m      3\u001b[0m \u001b[0mmemb\u001b[0m \u001b[0;34m=\u001b[0m \u001b[0mMath\u001b[0m\u001b[0;34m.\u001b[0m\u001b[0marray\u001b[0m\u001b[0;34m(\u001b[0m\u001b[0mkmeans\u001b[0m\u001b[0;34m.\u001b[0m\u001b[0mlabels_\u001b[0m\u001b[0;34m)\u001b[0m\u001b[0;34m\u001b[0m\u001b[0m\n\u001b[1;32m      4\u001b[0m \u001b[0;34m\u001b[0m\u001b[0m\n\u001b[1;32m      5\u001b[0m \u001b[0mcolors\u001b[0m \u001b[0;34m=\u001b[0m \u001b[0;34m[\u001b[0m\u001b[0;34m'red'\u001b[0m\u001b[0;34m,\u001b[0m\u001b[0;34m'green'\u001b[0m\u001b[0;34m,\u001b[0m\u001b[0;34m'blue'\u001b[0m\u001b[0;34m,\u001b[0m\u001b[0;34m'yellow'\u001b[0m\u001b[0;34m,\u001b[0m\u001b[0;34m'black'\u001b[0m\u001b[0;34m,\u001b[0m\u001b[0;34m'orange'\u001b[0m\u001b[0;34m]\u001b[0m\u001b[0;34m\u001b[0m\u001b[0m\n",
      "\u001b[0;31mNameError\u001b[0m: name 'kmeans' is not defined"
     ]
    }
   ],
   "source": [
    "kc = kmeans.cluster_centers_\n",
    "\n",
    "memb = Math.array(kmeans.labels_)\n",
    "\n",
    "colors = ['red','green','blue','yellow','black','orange']\n",
    "plt.figure(figsize=(10,10))\n",
    "for i in range(3):\n",
    "    ind = Math.where(memb==i)\n",
    "    Plot.scatter(Y[ind,0], Y[ind,1], 100, colors[i], alpha = 0.5)\n",
    "Plot.scatter(kc[:,0], kc[:,1], 1000, colors)"
   ]
  },
  {
   "cell_type": "code",
   "execution_count": 138,
   "metadata": {
    "collapsed": false
   },
   "outputs": [
    {
     "data": {
      "text/plain": [
       "<matplotlib.collections.PathCollection at 0x13a9fd850>"
      ]
     },
     "execution_count": 138,
     "metadata": {},
     "output_type": "execute_result"
    },
    {
     "data": {
      "image/png": "[encoded data removed]",
      "text/plain": [
       "<matplotlib.figure.Figure at 0x13ab12650>"
      ]
     },
     "metadata": {},
     "output_type": "display_data"
    }
   ],
   "source": [
    "kc = kmeans2.cluster_centers_\n",
    "\n",
    "memb = Math.array(kmeans2.labels_)\n",
    "\n",
    "colors = ['red','green','blue','yellow','black','orange']\n",
    "plt.figure(figsize=(10,10))\n",
    "for i in range(6):\n",
    "    ind = Math.where(memb==i)\n",
    "    Plot.scatter(Y[ind,0], Y[ind,1], 100, colors[i], alpha = 0.5)\n",
    "Plot.scatter(kc[:,0], kc[:,1], 1000, colors)"
   ]
  },
  {
   "cell_type": "code",
   "execution_count": 139,
   "metadata": {
    "collapsed": false
   },
   "outputs": [
    {
     "data": {
      "text/plain": [
       "<matplotlib.collections.PathCollection at 0x13aa0c610>"
      ]
     },
     "execution_count": 139,
     "metadata": {},
     "output_type": "execute_result"
    },
    {
     "data": {
      "image/png": "[encoded data removed]",
      "text/plain": [
       "<matplotlib.figure.Figure at 0x138ef6ad0>"
      ]
     },
     "metadata": {},
     "output_type": "display_data"
    }
   ],
   "source": [
    "kc = kmeans3.cluster_centers_\n",
    "\n",
    "memb = Math.array(kmeans3.labels_)\n",
    "\n",
    "colors = ['red','green','blue','yellow','black','orange']\n",
    "plt.figure(figsize=(10,10))\n",
    "for i in range(6):\n",
    "    ind = Math.where(memb==i)\n",
    "    Plot.scatter(Y[ind,0], Y[ind,1], 100, colors[i], alpha = 0.5)\n",
    "Plot.scatter(kc[:,0], kc[:,1], 1000, colors)"
   ]
  }
 ],
 "metadata": {
  "kernelspec": {
   "display_name": "Python 2",
   "language": "python",
   "name": "python2"
  },
  "language_info": {
   "codemirror_mode": {
    "name": "ipython",
    "version": 2
   },
   "file_extension": ".py",
   "mimetype": "text/x-python",
   "name": "python",
   "nbconvert_exporter": "python",
   "pygments_lexer": "ipython2",
   "version": "2.7.9"
  }
 },
 "nbformat": 4,
 "nbformat_minor": 0
}
