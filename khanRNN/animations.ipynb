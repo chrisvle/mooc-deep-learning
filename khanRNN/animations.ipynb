{
 "cells": [
  {
   "cell_type": "code",
   "execution_count": 11,
   "metadata": {
    "collapsed": false
   },
   "outputs": [],
   "source": [
    "import matplotlib.pyplot as plt\n",
    "import numpy as np\n",
    "import matplotlib.animation as animation\n",
    "\n",
    "def main():\n",
    "    numframes = 100\n",
    "    numpoints = 10\n",
    "    color_data = np.random.random((numframes, numpoints))\n",
    "    x, y, c = np.random.random((3, numpoints))\n",
    "\n",
    "    fig = plt.figure()\n",
    "    scat = plt.scatter(x, y, c=c, s=100)\n",
    "\n",
    "    ani = animation.FuncAnimation(fig, update_plot, frames=xrange(numframes),\n",
    "                                  fargs=(color_data, scat))\n",
    "    plt.show()\n",
    "\n",
    "def update_plot(i, data, scat):\n",
    "    scat.set_array(data[i])\n",
    "    return scat,\n",
    "\n",
    "main()"
   ]
  }
 ],
 "metadata": {
  "kernelspec": {
   "display_name": "Python 2",
   "language": "python",
   "name": "python2"
  },
  "language_info": {
   "codemirror_mode": {
    "name": "ipython",
    "version": 2
   },
   "file_extension": ".py",
   "mimetype": "text/x-python",
   "name": "python",
   "nbconvert_exporter": "python",
   "pygments_lexer": "ipython2",
   "version": "2.7.9"
  }
 },
 "nbformat": 4,
 "nbformat_minor": 0
}
